{
 "cells": [
  {
   "cell_type": "code",
   "execution_count": 1,
   "id": "3cd100d9",
   "metadata": {},
   "outputs": [],
   "source": [
    "# Dependencies\n",
    "import pandas as pd\n"
   ]
  },
  {
   "cell_type": "code",
   "execution_count": null,
   "id": "c69c6597",
   "metadata": {},
   "outputs": [],
   "source": [
    "# Save path to data set in a variable\n",
    "#Food_data_file = pd.read_csv(\"data/FoodData.csv\")\n"
   ]
  },
  {
   "cell_type": "code",
   "execution_count": null,
   "id": "b10b8eae",
   "metadata": {},
   "outputs": [
    {
     "data": {
      "text/html": [
       "<div>\n",
       "<style scoped>\n",
       "    .dataframe tbody tr th:only-of-type {\n",
       "        vertical-align: middle;\n",
       "    }\n",
       "\n",
       "    .dataframe tbody tr th {\n",
       "        vertical-align: top;\n",
       "    }\n",
       "\n",
       "    .dataframe thead th {\n",
       "        text-align: right;\n",
       "    }\n",
       "</style>\n",
       "<table border=\"1\" class=\"dataframe\">\n",
       "  <thead>\n",
       "    <tr style=\"text-align: right;\">\n",
       "      <th></th>\n",
       "      <th>Class</th>\n",
       "      <th>Type</th>\n",
       "      <th>Group</th>\n",
       "      <th>Food</th>\n",
       "      <th>Allergy</th>\n",
       "    </tr>\n",
       "  </thead>\n",
       "  <tbody>\n",
       "    <tr>\n",
       "      <th>0</th>\n",
       "      <td>Plant origin</td>\n",
       "      <td>Nut and seed</td>\n",
       "      <td>Oil seed</td>\n",
       "      <td>Almond</td>\n",
       "      <td>Nut Allergy</td>\n",
       "    </tr>\n",
       "    <tr>\n",
       "      <th>1</th>\n",
       "      <td>Plant origin</td>\n",
       "      <td>Fruit</td>\n",
       "      <td>Pome fruit</td>\n",
       "      <td>Apple</td>\n",
       "      <td>Oral Allergy Syndrome</td>\n",
       "    </tr>\n",
       "    <tr>\n",
       "      <th>2</th>\n",
       "      <td>Plant origin</td>\n",
       "      <td>Fruit</td>\n",
       "      <td>Stone fruit</td>\n",
       "      <td>Apricot</td>\n",
       "      <td>Stone Fruit Allergy</td>\n",
       "    </tr>\n",
       "    <tr>\n",
       "      <th>3</th>\n",
       "      <td>Plant origin</td>\n",
       "      <td>Vegetable</td>\n",
       "      <td>Composite vegetable</td>\n",
       "      <td>Artichoke</td>\n",
       "      <td>Insulin Allergy</td>\n",
       "    </tr>\n",
       "    <tr>\n",
       "      <th>4</th>\n",
       "      <td>Plant origin</td>\n",
       "      <td>Vegetable</td>\n",
       "      <td>Liliaceous vegetable</td>\n",
       "      <td>Asparagus</td>\n",
       "      <td>Allium Allergy</td>\n",
       "    </tr>\n",
       "  </tbody>\n",
       "</table>\n",
       "</div>"
      ],
      "text/plain": [
       "          Class          Type                 Group       Food  \\\n",
       "0  Plant origin  Nut and seed              Oil seed     Almond   \n",
       "1  Plant origin         Fruit            Pome fruit      Apple   \n",
       "2  Plant origin         Fruit           Stone fruit    Apricot   \n",
       "3  Plant origin     Vegetable   Composite vegetable  Artichoke   \n",
       "4  Plant origin     Vegetable  Liliaceous vegetable  Asparagus   \n",
       "\n",
       "                 Allergy  \n",
       "0            Nut Allergy  \n",
       "1  Oral Allergy Syndrome  \n",
       "2    Stone Fruit Allergy  \n",
       "3        Insulin Allergy  \n",
       "4         Allium Allergy  "
      ]
     },
     "execution_count": 5,
     "metadata": {},
     "output_type": "execute_result"
    }
   ],
   "source": [
    "# Use Pandas to read data\n",
    "Food_data_file_df = pd.read_csv(\"data/FoodData.csv\")\n",
    "Food_data_file_df.head()"
   ]
  },
  {
   "cell_type": "code",
   "execution_count": 2,
   "id": "54f7696a",
   "metadata": {},
   "outputs": [
    {
     "data": {
      "text/html": [
       "<div>\n",
       "<style scoped>\n",
       "    .dataframe tbody tr th:only-of-type {\n",
       "        vertical-align: middle;\n",
       "    }\n",
       "\n",
       "    .dataframe tbody tr th {\n",
       "        vertical-align: top;\n",
       "    }\n",
       "\n",
       "    .dataframe thead th {\n",
       "        text-align: right;\n",
       "    }\n",
       "</style>\n",
       "<table border=\"1\" class=\"dataframe\">\n",
       "  <thead>\n",
       "    <tr style=\"text-align: right;\">\n",
       "      <th></th>\n",
       "      <th>Class</th>\n",
       "      <th>Type</th>\n",
       "      <th>Group</th>\n",
       "      <th>Food</th>\n",
       "      <th>Allergy</th>\n",
       "    </tr>\n",
       "  </thead>\n",
       "  <tbody>\n",
       "    <tr>\n",
       "      <th>0</th>\n",
       "      <td>Plant origin</td>\n",
       "      <td>Nut and seed</td>\n",
       "      <td>Oil seed</td>\n",
       "      <td>Almond</td>\n",
       "      <td>Nut Allergy</td>\n",
       "    </tr>\n",
       "    <tr>\n",
       "      <th>1</th>\n",
       "      <td>Plant origin</td>\n",
       "      <td>Fruit</td>\n",
       "      <td>Pome fruit</td>\n",
       "      <td>Apple</td>\n",
       "      <td>Oral Allergy Syndrome</td>\n",
       "    </tr>\n",
       "    <tr>\n",
       "      <th>2</th>\n",
       "      <td>Plant origin</td>\n",
       "      <td>Fruit</td>\n",
       "      <td>Stone fruit</td>\n",
       "      <td>Apricot</td>\n",
       "      <td>Stone Fruit Allergy</td>\n",
       "    </tr>\n",
       "    <tr>\n",
       "      <th>3</th>\n",
       "      <td>Plant origin</td>\n",
       "      <td>Vegetable</td>\n",
       "      <td>Composite vegetable</td>\n",
       "      <td>Artichoke</td>\n",
       "      <td>Insulin Allergy</td>\n",
       "    </tr>\n",
       "    <tr>\n",
       "      <th>4</th>\n",
       "      <td>Plant origin</td>\n",
       "      <td>Vegetable</td>\n",
       "      <td>Liliaceous vegetable</td>\n",
       "      <td>Asparagus</td>\n",
       "      <td>Allium Allergy</td>\n",
       "    </tr>\n",
       "    <tr>\n",
       "      <th>5</th>\n",
       "      <td>Plant origin</td>\n",
       "      <td>Fruit</td>\n",
       "      <td>Tropical fruit</td>\n",
       "      <td>Avocado</td>\n",
       "      <td>Oral Allergy Syndrome</td>\n",
       "    </tr>\n",
       "    <tr>\n",
       "      <th>6</th>\n",
       "      <td>Plant origin</td>\n",
       "      <td>Vegetable</td>\n",
       "      <td>Miscellaneous vegetable</td>\n",
       "      <td>Bamboo shoot</td>\n",
       "      <td>Histamine Allergy</td>\n",
       "    </tr>\n",
       "    <tr>\n",
       "      <th>7</th>\n",
       "      <td>Plant origin</td>\n",
       "      <td>Fruit</td>\n",
       "      <td>Tropical fruit</td>\n",
       "      <td>Banana</td>\n",
       "      <td>Banana Allergy</td>\n",
       "    </tr>\n",
       "    <tr>\n",
       "      <th>8</th>\n",
       "      <td>Plant origin</td>\n",
       "      <td>Cereal grain and pulse</td>\n",
       "      <td>Cereal grain</td>\n",
       "      <td>Barley</td>\n",
       "      <td>Gluten Allergy</td>\n",
       "    </tr>\n",
       "    <tr>\n",
       "      <th>9</th>\n",
       "      <td>Plant origin</td>\n",
       "      <td>Cereal grain and pulse</td>\n",
       "      <td>Pulse</td>\n",
       "      <td>Bean</td>\n",
       "      <td>Legume Allergy</td>\n",
       "    </tr>\n",
       "  </tbody>\n",
       "</table>\n",
       "</div>"
      ],
      "text/plain": [
       "          Class                    Type                    Group  \\\n",
       "0  Plant origin            Nut and seed                 Oil seed   \n",
       "1  Plant origin                   Fruit               Pome fruit   \n",
       "2  Plant origin                   Fruit              Stone fruit   \n",
       "3  Plant origin               Vegetable      Composite vegetable   \n",
       "4  Plant origin               Vegetable     Liliaceous vegetable   \n",
       "5  Plant origin                   Fruit           Tropical fruit   \n",
       "6  Plant origin               Vegetable  Miscellaneous vegetable   \n",
       "7  Plant origin                   Fruit           Tropical fruit   \n",
       "8  Plant origin  Cereal grain and pulse             Cereal grain   \n",
       "9  Plant origin  Cereal grain and pulse                    Pulse   \n",
       "\n",
       "           Food                Allergy  \n",
       "0        Almond            Nut Allergy  \n",
       "1         Apple  Oral Allergy Syndrome  \n",
       "2       Apricot    Stone Fruit Allergy  \n",
       "3     Artichoke        Insulin Allergy  \n",
       "4     Asparagus         Allium Allergy  \n",
       "5       Avocado  Oral Allergy Syndrome  \n",
       "6  Bamboo shoot      Histamine Allergy  \n",
       "7        Banana         Banana Allergy  \n",
       "8        Barley         Gluten Allergy  \n",
       "9          Bean         Legume Allergy  "
      ]
     },
     "execution_count": 2,
     "metadata": {},
     "output_type": "execute_result"
    }
   ],
   "source": [
    "\n",
    "Food_data_file_df = pd.read_csv(\"data/FoodData.csv\")\n",
    "Food_data_file_df.head(10)"
   ]
  },
  {
   "cell_type": "code",
   "execution_count": 3,
   "id": "37ee57b1",
   "metadata": {},
   "outputs": [
    {
     "data": {
      "text/plain": [
       "array(['Nut and seed', 'Fruit', 'Vegetable', 'Cereal grain and pulse',\n",
       "       'Aquatic animal', 'Dairy', 'Oil', 'Terrestrial mammal', 'Poultry',\n",
       "       'Bee product', 'Hop', 'Mineral water', 'Spice and herb', 'Tea'],\n",
       "      dtype=object)"
      ]
     },
     "execution_count": 3,
     "metadata": {},
     "output_type": "execute_result"
    }
   ],
   "source": [
    "# The unique method shows every element only once\n",
    "unique = Food_data_file_df[\"Type\"].unique()\n",
    "unique"
   ]
  },
  {
   "cell_type": "code",
   "execution_count": null,
   "id": "0cec1f58",
   "metadata": {},
   "outputs": [
    {
     "data": {
      "text/plain": [
       "Vegetable                 64\n",
       "Fruit                     34\n",
       "Cereal grain and pulse    21\n",
       "Aquatic animal            14\n",
       "Nut and seed              12\n",
       "Dairy                     11\n",
       "Oil                       10\n",
       "Terrestrial mammal         6\n",
       "Poultry                    4\n",
       "Spice and herb             3\n",
       "Bee product                2\n",
       "Hop                        1\n",
       "Mineral water              1\n",
       "Tea                        1\n",
       "Name: Type, dtype: int64"
      ]
     },
     "execution_count": 19,
     "metadata": {},
     "output_type": "execute_result"
    }
   ],
   "source": [
    "count = Food_data_file_df[\"Type\"].value_counts()\n",
    "count"
   ]
  },
  {
   "cell_type": "code",
   "execution_count": null,
   "id": "d72abe05",
   "metadata": {},
   "outputs": [
    {
     "data": {
      "text/plain": [
       "array(['Almond', 'Apple', 'Apricot', 'Artichoke', 'Asparagus', 'Avocado',\n",
       "       'Bamboo shoot', 'Banana', 'Barley', 'Bean', 'Blackberry',\n",
       "       'Black-eyed bean', 'Blueberry', 'Bonito', 'Broad bean', 'Broccoli',\n",
       "       'Brussels sprouts', 'Buckwheat', 'Burdock', 'Butter',\n",
       "       'Butter bean', 'Buttermilk', 'Button mushroom', 'Cabbage',\n",
       "       'Cacao bean', 'Canola oil', 'Carrot', 'Casein', 'Cattle',\n",
       "       'Cauliflower', 'Celery', 'Cheese', 'Cherry', 'Chestnut', 'Chicken',\n",
       "       'Chicory', 'Chinese cabbage', 'Coconut oil', 'Coffee bean', 'Corn',\n",
       "       'Corn oil', 'Cotton seed', 'Cranberry', 'Cream', 'Crustaceans',\n",
       "       'Cucumber ', 'Custard', 'Date', 'Deer', 'Duck', 'Eel', 'Egg plant',\n",
       "       'Eggs', 'Endive', 'Fructose', 'Garlic', 'Ghrkin', 'Ginger',\n",
       "       'Ginkgo nut', 'Globfish', 'Glucose', 'Goat', 'Grape', 'Grapefruit',\n",
       "       'Grapeseed oil', 'Green soybean', 'Groundnut oil', 'Guava',\n",
       "       'Honey', 'Hop', 'Horse', 'Horse Mackerel', 'Horseradish',\n",
       "       'Huckleberry', 'Ice cream', 'Japanese pear', 'Japanese persimmon',\n",
       "       'Japanese plum', 'Kale', 'Kidney bean', 'Kiwi', 'Konjac', 'Kyona',\n",
       "       'Lactose', 'Leek', 'Lemon', 'Lentil', 'Lettuce ', 'Lima bean',\n",
       "       'Lime', 'Loquat', 'Mackerel', 'Makuwauri  melon', 'Mango',\n",
       "       'Melons', 'Milk', 'Mineral water', 'Mitsuba', 'Mume plum',\n",
       "       'Mustard oil', 'Mustard Spinach', 'Nectarine', 'Nira', 'Okra',\n",
       "       'Olive oil', 'Onion', 'Orange', 'Orange pulp', 'Papaya', 'Parsley',\n",
       "       'Parsnip', 'Passion fruit', 'Peach', 'Peanut', 'Pear', 'Peas',\n",
       "       'Pecan', 'Pegia', 'Peppermint', 'Percifomes', 'Pig', 'Pineapple',\n",
       "       'Popcorn', 'Potato', 'Prune', 'Pumpkin', 'Qing-geng-cai', 'Quince',\n",
       "       'Radish leaf', 'Radish root', 'Rapeseed', 'Raspberry', 'Rice',\n",
       "       'Ricebran oil', 'Royal Jelly', 'Rye', 'Safflower seed', 'Salmon',\n",
       "       'Salsify', 'Sansho', 'Sea Bass', 'Sea Bream', 'Sesame seed',\n",
       "       'Shallot', 'Sheep', 'Shelled mollusc', 'Shiitake  mushroom',\n",
       "       'Shungiku', 'Sour cream', 'Soybean', 'Spearmint', 'Spinach',\n",
       "       'Squash', 'Strawberry', 'Sugar', 'Sugar beet', 'Sugarcane',\n",
       "       'Sultani', 'Sultapya', 'Sunflower oil', 'Sunflower seed',\n",
       "       'Sweet corn', 'Sweet Pepper', 'Sweet potato', 'Taro', 'Tea',\n",
       "       'Tetraodontiformes', 'Tomato', 'Trout', 'Tuna', 'Turkey',\n",
       "       'Turnip leaf', 'Turnip root', 'Vegetable oil', 'Walnut',\n",
       "       'Water melon', 'Watercress', 'Welsh', 'Wheat', 'Whey',\n",
       "       'White bean', 'Yam', 'Yogurt '], dtype=object)"
      ]
     },
     "execution_count": 7,
     "metadata": {},
     "output_type": "execute_result"
    }
   ],
   "source": [
    "unique = Food_data_file_df[\"Food\"].unique()\n",
    "unique"
   ]
  },
  {
   "cell_type": "code",
   "execution_count": null,
   "id": "ee063eb8",
   "metadata": {},
   "outputs": [
    {
     "data": {
      "text/plain": [
       "Peas             2\n",
       "Almond           1\n",
       "Pegia            1\n",
       "Peppermint       1\n",
       "Percifomes       1\n",
       "                ..\n",
       "Grapefruit       1\n",
       "Grapeseed oil    1\n",
       "Green soybean    1\n",
       "Groundnut oil    1\n",
       "Yogurt           1\n",
       "Name: Food, Length: 183, dtype: int64"
      ]
     },
     "execution_count": 12,
     "metadata": {},
     "output_type": "execute_result"
    }
   ],
   "source": [
    "count = Food_data_file_df[\"Food\"].value_counts()\n",
    "count"
   ]
  },
  {
   "cell_type": "code",
   "execution_count": null,
   "id": "fc6dd540",
   "metadata": {},
   "outputs": [
    {
     "data": {
      "text/plain": [
       "array(['Oil seed', 'Pome fruit', 'Stone fruit', 'Composite vegetable',\n",
       "       'Liliaceous vegetable', 'Tropical fruit',\n",
       "       'Miscellaneous vegetable', 'Cereal grain', 'Pulse', 'Berry',\n",
       "       'Fish', 'Cruciferous vegetable', 'Dairy', 'Mushroom',\n",
       "       'Beverage seed', 'Oil', 'Umbelliferous vegetable', 'Offal',\n",
       "       'Shellfish', 'Cucurbitaceous vegetable', 'Solanceous vegetable',\n",
       "       'Egg', 'Sugar source', 'Grape', 'Citrus fruit / citric acid',\n",
       "       'Legumes vegetable', 'Bee product', 'Hop', 'Potato',\n",
       "       'Mineral water', 'Herb', 'Spice', 'Tea'], dtype=object)"
      ]
     },
     "execution_count": 8,
     "metadata": {},
     "output_type": "execute_result"
    }
   ],
   "source": [
    "unique = Food_data_file_df[\"Group\"].unique()\n",
    "unique"
   ]
  },
  {
   "cell_type": "code",
   "execution_count": null,
   "id": "6067cdb3",
   "metadata": {},
   "outputs": [
    {
     "data": {
      "text/plain": [
       "Cruciferous vegetable         15\n",
       "Pulse                         13\n",
       "Fish                          12\n",
       "Dairy                         11\n",
       "Oil                           10\n",
       "Oil seed                      10\n",
       "Tropical fruit                10\n",
       "Offal                          9\n",
       "Cereal grain                   8\n",
       "Liliaceous vegetable           7\n",
       "Composite vegetable            7\n",
       "Stone fruit                    7\n",
       "Cucurbitaceous vegetable       7\n",
       "Berry                          6\n",
       "Sugar source                   6\n",
       "Potato                         5\n",
       "Citrus fruit / citric acid     5\n",
       "Umbelliferous vegetable        5\n",
       "Pome fruit                     5\n",
       "Miscellaneous vegetable        4\n",
       "Solanceous vegetable           3\n",
       "Legumes vegetable              3\n",
       "Shellfish                      2\n",
       "Beverage seed                  2\n",
       "Mushroom                       2\n",
       "Bee product                    2\n",
       "Herb                           2\n",
       "Egg                            1\n",
       "Grape                          1\n",
       "Hop                            1\n",
       "Mineral water                  1\n",
       "Spice                          1\n",
       "Tea                            1\n",
       "Name: Group, dtype: int64"
      ]
     },
     "execution_count": 9,
     "metadata": {},
     "output_type": "execute_result"
    }
   ],
   "source": [
    "\n",
    "count = Food_data_file_df[\"Group\"].value_counts()\n",
    "count"
   ]
  },
  {
   "cell_type": "code",
   "execution_count": null,
   "id": "4da628ee",
   "metadata": {},
   "outputs": [
    {
     "data": {
      "text/plain": [
       "array(['Plant origin', 'Animal origin', 'Mineral waters'], dtype=object)"
      ]
     },
     "execution_count": 13,
     "metadata": {},
     "output_type": "execute_result"
    }
   ],
   "source": [
    "unique = Food_data_file_df[\"Class\"].unique()\n",
    "unique"
   ]
  },
  {
   "cell_type": "code",
   "execution_count": null,
   "id": "eedd92c5",
   "metadata": {},
   "outputs": [
    {
     "data": {
      "text/plain": [
       "Plant origin      146\n",
       "Animal origin      37\n",
       "Mineral waters      1\n",
       "Name: Class, dtype: int64"
      ]
     },
     "execution_count": 14,
     "metadata": {},
     "output_type": "execute_result"
    }
   ],
   "source": [
    "count = Food_data_file_df[\"Class\"].value_counts()\n",
    "count"
   ]
  },
  {
   "cell_type": "code",
   "execution_count": null,
   "id": "b45a1fdf",
   "metadata": {},
   "outputs": [
    {
     "data": {
      "text/plain": [
       "array(['Nut Allergy', 'Oral Allergy Syndrome', 'Stone Fruit Allergy',\n",
       "       'Insulin Allergy', 'Allium Allergy', 'Histamine Allergy',\n",
       "       'Banana Allergy', 'Gluten Allergy', 'Legume Allergy',\n",
       "       'Salicylate Allergy', 'Broccoli allergy', 'Cruciferous Allergy',\n",
       "       'Ragweed Allergy', 'Milk allergy / Lactose intolerance',\n",
       "       'Mushroom Allergy', nan, 'Hypersensitivity', 'Alpha-gal Syndrome',\n",
       "       'Poultry Allergy', 'Ochratoxin Allergy', 'Corn Allergy',\n",
       "       'Seed Allergy', 'Shellfish Allergy', 'Fish Allergy',\n",
       "       'Nightshade Allergy', 'Sugar Allergy / Intolerance', 'LTP Allergy',\n",
       "       'Citrus Allergy', 'Honey Allergy', 'Beer Allergy',\n",
       "       'Potato Allergy', 'Lactose Intolerance', 'Aquagenic Urticaria',\n",
       "       'Peanut Allergy', 'Mint Allergy', 'Rice Allergy', 'Pepper Allergy',\n",
       "       'Soy Allergy', 'Tannin Allergy', 'Thyroid'], dtype=object)"
      ]
     },
     "execution_count": 15,
     "metadata": {},
     "output_type": "execute_result"
    }
   ],
   "source": [
    "unique = Food_data_file_df[\"Allergy\"].unique()\n",
    "unique"
   ]
  },
  {
   "cell_type": "code",
   "execution_count": null,
   "id": "9c357d24",
   "metadata": {},
   "outputs": [
    {
     "data": {
      "text/plain": [
       "Legume Allergy                        14\n",
       "Oral Allergy Syndrome                 13\n",
       "Fish Allergy                          12\n",
       "Milk allergy / Lactose intolerance    11\n",
       "Cruciferous Allergy                    9\n",
       "Stone Fruit Allergy                    7\n",
       "Allium Allergy                         7\n",
       "Alpha-gal Syndrome                     6\n",
       "Hypersensitivity                       6\n",
       "Salicylate Allergy                     6\n",
       "Sugar Allergy / Intolerance            5\n",
       "Nut Allergy                            5\n",
       "Seed Allergy                           5\n",
       "Potato Allergy                         5\n",
       "Histamine Allergy                      5\n",
       "Insulin Allergy                        5\n",
       "Citrus Allergy                         5\n",
       "Gluten Allergy                         4\n",
       "Poultry Allergy                        4\n",
       "Nightshade Allergy                     3\n",
       "Corn Allergy                           3\n",
       "Mushroom Allergy                       2\n",
       "LTP Allergy                            2\n",
       "Honey Allergy                          2\n",
       "Mint Allergy                           2\n",
       "Shellfish Allergy                      1\n",
       "Peanut Allergy                         1\n",
       "Tannin Allergy                         1\n",
       "Soy Allergy                            1\n",
       "Pepper Allergy                         1\n",
       "Rice Allergy                           1\n",
       "Lactose Intolerance                    1\n",
       "Aquagenic Urticaria                    1\n",
       "Ochratoxin Allergy                     1\n",
       "Banana Allergy                         1\n",
       "Beer Allergy                           1\n",
       "Broccoli allergy                       1\n",
       "Ragweed Allergy                        1\n",
       "Thyroid                                1\n",
       "Name: Allergy, dtype: int64"
      ]
     },
     "execution_count": 16,
     "metadata": {},
     "output_type": "execute_result"
    }
   ],
   "source": [
    "count = Food_data_file_df[\"Allergy\"].value_counts()\n",
    "count"
   ]
  }
 ],
 "metadata": {
  "kernelspec": {
   "display_name": "base",
   "language": "python",
   "name": "python3"
  },
  "language_info": {
   "codemirror_mode": {
    "name": "ipython",
    "version": 3
   },
   "file_extension": ".py",
   "mimetype": "text/x-python",
   "name": "python",
   "nbconvert_exporter": "python",
   "pygments_lexer": "ipython3",
   "version": "3.9.16"
  }
 },
 "nbformat": 4,
 "nbformat_minor": 5
}
