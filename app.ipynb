{
 "cells": [
  {
   "cell_type": "code",
   "execution_count": null,
   "id": "e361418b",
   "metadata": {},
   "outputs": [],
   "source": []
  },
  {
   "cell_type": "code",
   "execution_count": 103,
   "id": "1599502d",
   "metadata": {},
   "outputs": [],
   "source": [
    "# Dependencies\n",
    "import requests\n",
    "import json\n",
    "import pandas as pd\n",
    "import csv\n",
    "import matplotlib as plt\n",
    "import numpy as np\n",
    "from scipy.stats import linregress\n",
    "import math"
   ]
  },
  {
   "cell_type": "code",
   "execution_count": 2,
   "id": "d76a1950",
   "metadata": {},
   "outputs": [],
   "source": [
    "# Save path to data set in a variable\n",
    "#Food_data_file = pd.read_csv(\"data/FoodData.csv\")\n"
   ]
  },
  {
   "cell_type": "code",
   "execution_count": 3,
   "id": "c6b85110",
   "metadata": {},
   "outputs": [
    {
     "data": {
      "text/html": [
       "<div>\n",
       "<style scoped>\n",
       "    .dataframe tbody tr th:only-of-type {\n",
       "        vertical-align: middle;\n",
       "    }\n",
       "\n",
       "    .dataframe tbody tr th {\n",
       "        vertical-align: top;\n",
       "    }\n",
       "\n",
       "    .dataframe thead th {\n",
       "        text-align: right;\n",
       "    }\n",
       "</style>\n",
       "<table border=\"1\" class=\"dataframe\">\n",
       "  <thead>\n",
       "    <tr style=\"text-align: right;\">\n",
       "      <th></th>\n",
       "      <th>Class</th>\n",
       "      <th>Type</th>\n",
       "      <th>Group</th>\n",
       "      <th>Food</th>\n",
       "      <th>Allergy</th>\n",
       "    </tr>\n",
       "  </thead>\n",
       "  <tbody>\n",
       "    <tr>\n",
       "      <th>0</th>\n",
       "      <td>Plant origin</td>\n",
       "      <td>Nut and seed</td>\n",
       "      <td>Oil seed</td>\n",
       "      <td>Almond</td>\n",
       "      <td>Nut Allergy</td>\n",
       "    </tr>\n",
       "    <tr>\n",
       "      <th>1</th>\n",
       "      <td>Plant origin</td>\n",
       "      <td>Fruit</td>\n",
       "      <td>Pome fruit</td>\n",
       "      <td>Apple</td>\n",
       "      <td>Oral Allergy Syndrome</td>\n",
       "    </tr>\n",
       "    <tr>\n",
       "      <th>2</th>\n",
       "      <td>Plant origin</td>\n",
       "      <td>Fruit</td>\n",
       "      <td>Stone fruit</td>\n",
       "      <td>Apricot</td>\n",
       "      <td>Stone Fruit Allergy</td>\n",
       "    </tr>\n",
       "    <tr>\n",
       "      <th>3</th>\n",
       "      <td>Plant origin</td>\n",
       "      <td>Vegetable</td>\n",
       "      <td>Composite vegetable</td>\n",
       "      <td>Artichoke</td>\n",
       "      <td>Insulin Allergy</td>\n",
       "    </tr>\n",
       "    <tr>\n",
       "      <th>4</th>\n",
       "      <td>Plant origin</td>\n",
       "      <td>Vegetable</td>\n",
       "      <td>Liliaceous vegetable</td>\n",
       "      <td>Asparagus</td>\n",
       "      <td>Allium Allergy</td>\n",
       "    </tr>\n",
       "  </tbody>\n",
       "</table>\n",
       "</div>"
      ],
      "text/plain": [
       "          Class          Type                 Group       Food  \\\n",
       "0  Plant origin  Nut and seed              Oil seed     Almond   \n",
       "1  Plant origin         Fruit            Pome fruit      Apple   \n",
       "2  Plant origin         Fruit           Stone fruit    Apricot   \n",
       "3  Plant origin     Vegetable   Composite vegetable  Artichoke   \n",
       "4  Plant origin     Vegetable  Liliaceous vegetable  Asparagus   \n",
       "\n",
       "                 Allergy  \n",
       "0            Nut Allergy  \n",
       "1  Oral Allergy Syndrome  \n",
       "2    Stone Fruit Allergy  \n",
       "3        Insulin Allergy  \n",
       "4         Allium Allergy  "
      ]
     },
     "execution_count": 3,
     "metadata": {},
     "output_type": "execute_result"
    }
   ],
   "source": [
    "# Use Pandas to read data\n",
    "Food_data_file_df = pd.read_csv(\"data/FoodData.csv\")\n",
    "Food_data_file_df.head()"
   ]
  },
  {
   "cell_type": "code",
   "execution_count": 115,
   "id": "d4973c47",
   "metadata": {},
   "outputs": [
    {
     "data": {
      "text/html": [
       "<div>\n",
       "<style scoped>\n",
       "    .dataframe tbody tr th:only-of-type {\n",
       "        vertical-align: middle;\n",
       "    }\n",
       "\n",
       "    .dataframe tbody tr th {\n",
       "        vertical-align: top;\n",
       "    }\n",
       "\n",
       "    .dataframe thead th {\n",
       "        text-align: right;\n",
       "    }\n",
       "</style>\n",
       "<table border=\"1\" class=\"dataframe\">\n",
       "  <thead>\n",
       "    <tr style=\"text-align: right;\">\n",
       "      <th></th>\n",
       "      <th>Class</th>\n",
       "      <th>Type</th>\n",
       "      <th>Group</th>\n",
       "      <th>Food</th>\n",
       "      <th>Allergy</th>\n",
       "    </tr>\n",
       "  </thead>\n",
       "  <tbody>\n",
       "    <tr>\n",
       "      <th>0</th>\n",
       "      <td>Plant origin</td>\n",
       "      <td>Nut and seed</td>\n",
       "      <td>Oil seed</td>\n",
       "      <td>Almond</td>\n",
       "      <td>Nut Allergy</td>\n",
       "    </tr>\n",
       "    <tr>\n",
       "      <th>1</th>\n",
       "      <td>Plant origin</td>\n",
       "      <td>Fruit</td>\n",
       "      <td>Pome fruit</td>\n",
       "      <td>Apple</td>\n",
       "      <td>Oral Allergy Syndrome</td>\n",
       "    </tr>\n",
       "    <tr>\n",
       "      <th>2</th>\n",
       "      <td>Plant origin</td>\n",
       "      <td>Fruit</td>\n",
       "      <td>Stone fruit</td>\n",
       "      <td>Apricot</td>\n",
       "      <td>Stone Fruit Allergy</td>\n",
       "    </tr>\n",
       "    <tr>\n",
       "      <th>3</th>\n",
       "      <td>Plant origin</td>\n",
       "      <td>Vegetable</td>\n",
       "      <td>Composite vegetable</td>\n",
       "      <td>Artichoke</td>\n",
       "      <td>Insulin Allergy</td>\n",
       "    </tr>\n",
       "    <tr>\n",
       "      <th>4</th>\n",
       "      <td>Plant origin</td>\n",
       "      <td>Vegetable</td>\n",
       "      <td>Liliaceous vegetable</td>\n",
       "      <td>Asparagus</td>\n",
       "      <td>Allium Allergy</td>\n",
       "    </tr>\n",
       "    <tr>\n",
       "      <th>5</th>\n",
       "      <td>Plant origin</td>\n",
       "      <td>Fruit</td>\n",
       "      <td>Tropical fruit</td>\n",
       "      <td>Avocado</td>\n",
       "      <td>Oral Allergy Syndrome</td>\n",
       "    </tr>\n",
       "    <tr>\n",
       "      <th>6</th>\n",
       "      <td>Plant origin</td>\n",
       "      <td>Vegetable</td>\n",
       "      <td>Miscellaneous vegetable</td>\n",
       "      <td>Bamboo shoot</td>\n",
       "      <td>Histamine Allergy</td>\n",
       "    </tr>\n",
       "    <tr>\n",
       "      <th>7</th>\n",
       "      <td>Plant origin</td>\n",
       "      <td>Fruit</td>\n",
       "      <td>Tropical fruit</td>\n",
       "      <td>Banana</td>\n",
       "      <td>Banana Allergy</td>\n",
       "    </tr>\n",
       "    <tr>\n",
       "      <th>8</th>\n",
       "      <td>Plant origin</td>\n",
       "      <td>Cereal grain and pulse</td>\n",
       "      <td>Cereal grain</td>\n",
       "      <td>Barley</td>\n",
       "      <td>Gluten Allergy</td>\n",
       "    </tr>\n",
       "    <tr>\n",
       "      <th>9</th>\n",
       "      <td>Plant origin</td>\n",
       "      <td>Cereal grain and pulse</td>\n",
       "      <td>Pulse</td>\n",
       "      <td>Bean</td>\n",
       "      <td>Legume Allergy</td>\n",
       "    </tr>\n",
       "  </tbody>\n",
       "</table>\n",
       "</div>"
      ],
      "text/plain": [
       "          Class                    Type                    Group  \\\n",
       "0  Plant origin            Nut and seed                 Oil seed   \n",
       "1  Plant origin                   Fruit               Pome fruit   \n",
       "2  Plant origin                   Fruit              Stone fruit   \n",
       "3  Plant origin               Vegetable      Composite vegetable   \n",
       "4  Plant origin               Vegetable     Liliaceous vegetable   \n",
       "5  Plant origin                   Fruit           Tropical fruit   \n",
       "6  Plant origin               Vegetable  Miscellaneous vegetable   \n",
       "7  Plant origin                   Fruit           Tropical fruit   \n",
       "8  Plant origin  Cereal grain and pulse             Cereal grain   \n",
       "9  Plant origin  Cereal grain and pulse                    Pulse   \n",
       "\n",
       "           Food                Allergy  \n",
       "0        Almond            Nut Allergy  \n",
       "1         Apple  Oral Allergy Syndrome  \n",
       "2       Apricot    Stone Fruit Allergy  \n",
       "3     Artichoke        Insulin Allergy  \n",
       "4     Asparagus         Allium Allergy  \n",
       "5       Avocado  Oral Allergy Syndrome  \n",
       "6  Bamboo shoot      Histamine Allergy  \n",
       "7        Banana         Banana Allergy  \n",
       "8        Barley         Gluten Allergy  \n",
       "9          Bean         Legume Allergy  "
      ]
     },
     "execution_count": 115,
     "metadata": {},
     "output_type": "execute_result"
    }
   ],
   "source": [
    "\n",
    "Food_data_file_df = pd.read_csv(\"data/FoodData.csv\")\n",
    "Food_data_file_df.head(10)"
   ]
  },
  {
   "cell_type": "code",
   "execution_count": 5,
   "id": "2e3730d5",
   "metadata": {},
   "outputs": [
    {
     "data": {
      "text/plain": [
       "array(['Nut and seed', 'Fruit', 'Vegetable', 'Cereal grain and pulse',\n",
       "       'Aquatic animal', 'Dairy', 'Oil', 'Terrestrial mammal', 'Poultry',\n",
       "       'Bee product', 'Hop', 'Mineral water', 'Spice and herb', 'Tea'],\n",
       "      dtype=object)"
      ]
     },
     "execution_count": 5,
     "metadata": {},
     "output_type": "execute_result"
    }
   ],
   "source": [
    "# The unique method shows every element only once\n",
    "unique = Food_data_file_df[\"Type\"].unique()\n",
    "unique"
   ]
  },
  {
   "cell_type": "code",
   "execution_count": 6,
   "id": "13c200d3",
   "metadata": {},
   "outputs": [
    {
     "data": {
      "text/plain": [
       "Vegetable                 64\n",
       "Fruit                     34\n",
       "Cereal grain and pulse    21\n",
       "Aquatic animal            14\n",
       "Nut and seed              12\n",
       "Dairy                     11\n",
       "Oil                       10\n",
       "Terrestrial mammal         6\n",
       "Poultry                    4\n",
       "Spice and herb             3\n",
       "Bee product                2\n",
       "Mineral water              1\n",
       "Hop                        1\n",
       "Tea                        1\n",
       "Name: Type, dtype: int64"
      ]
     },
     "execution_count": 6,
     "metadata": {},
     "output_type": "execute_result"
    }
   ],
   "source": [
    "count = Food_data_file_df[\"Type\"].value_counts()\n",
    "count"
   ]
  },
  {
   "cell_type": "code",
   "execution_count": 7,
   "id": "e133d100",
   "metadata": {},
   "outputs": [
    {
     "data": {
      "text/plain": [
       "array(['Almond', 'Apple', 'Apricot', 'Artichoke', 'Asparagus', 'Avocado',\n",
       "       'Bamboo shoot', 'Banana', 'Barley', 'Bean', 'Blackberry',\n",
       "       'Black-eyed bean', 'Blueberry', 'Bonito', 'Broad bean', 'Broccoli',\n",
       "       'Brussels sprouts', 'Buckwheat', 'Burdock', 'Butter',\n",
       "       'Butter bean', 'Buttermilk', 'Button mushroom', 'Cabbage',\n",
       "       'Cacao bean', 'Canola oil', 'Carrot', 'Casein', 'Cattle',\n",
       "       'Cauliflower', 'Celery', 'Cheese', 'Cherry', 'Chestnut', 'Chicken',\n",
       "       'Chicory', 'Chinese cabbage', 'Coconut oil', 'Coffee bean', 'Corn',\n",
       "       'Corn oil', 'Cotton seed', 'Cranberry', 'Cream', 'Crustaceans',\n",
       "       'Cucumber ', 'Custard', 'Date', 'Deer', 'Duck', 'Eel', 'Egg plant',\n",
       "       'Eggs', 'Endive', 'Fructose', 'Garlic', 'Ghrkin', 'Ginger',\n",
       "       'Ginkgo nut', 'Globfish', 'Glucose', 'Goat', 'Grape', 'Grapefruit',\n",
       "       'Grapeseed oil', 'Green soybean', 'Groundnut oil', 'Guava',\n",
       "       'Honey', 'Hop', 'Horse', 'Horse Mackerel', 'Horseradish',\n",
       "       'Huckleberry', 'Ice cream', 'Japanese pear', 'Japanese persimmon',\n",
       "       'Japanese plum', 'Kale', 'Kidney bean', 'Kiwi', 'Konjac', 'Kyona',\n",
       "       'Lactose', 'Leek', 'Lemon', 'Lentil', 'Lettuce ', 'Lima bean',\n",
       "       'Lime', 'Loquat', 'Mackerel', 'Makuwauri  melon', 'Mango',\n",
       "       'Melons', 'Milk', 'Mineral water', 'Mitsuba', 'Mume plum',\n",
       "       'Mustard oil', 'Mustard Spinach', 'Nectarine', 'Nira', 'Okra',\n",
       "       'Olive oil', 'Onion', 'Orange', 'Orange pulp', 'Papaya', 'Parsley',\n",
       "       'Parsnip', 'Passion fruit', 'Peach', 'Peanut', 'Pear', 'Peas',\n",
       "       'Pecan', 'Pegia', 'Peppermint', 'Percifomes', 'Pig', 'Pineapple',\n",
       "       'Popcorn', 'Potato', 'Prune', 'Pumpkin', 'Qing-geng-cai', 'Quince',\n",
       "       'Radish leaf', 'Radish root', 'Rapeseed', 'Raspberry', 'Rice',\n",
       "       'Ricebran oil', 'Royal Jelly', 'Rye', 'Safflower seed', 'Salmon',\n",
       "       'Salsify', 'Sansho', 'Sea Bass', 'Sea Bream', 'Sesame seed',\n",
       "       'Shallot', 'Sheep', 'Shelled mollusc', 'Shiitake  mushroom',\n",
       "       'Shungiku', 'Sour cream', 'Soybean', 'Spearmint', 'Spinach',\n",
       "       'Squash', 'Strawberry', 'Sugar', 'Sugar beet', 'Sugarcane',\n",
       "       'Sultani', 'Sultapya', 'Sunflower oil', 'Sunflower seed',\n",
       "       'Sweet corn', 'Sweet Pepper', 'Sweet potato', 'Taro', 'Tea',\n",
       "       'Tetraodontiformes', 'Tomato', 'Trout', 'Tuna', 'Turkey',\n",
       "       'Turnip leaf', 'Turnip root', 'Vegetable oil', 'Walnut',\n",
       "       'Water melon', 'Watercress', 'Welsh', 'Wheat', 'Whey',\n",
       "       'White bean', 'Yam', 'Yogurt '], dtype=object)"
      ]
     },
     "execution_count": 7,
     "metadata": {},
     "output_type": "execute_result"
    }
   ],
   "source": [
    "unique = Food_data_file_df[\"Food\"].unique()\n",
    "unique"
   ]
  },
  {
   "cell_type": "code",
   "execution_count": 8,
   "id": "231bce04",
   "metadata": {},
   "outputs": [
    {
     "data": {
      "text/plain": [
       "Peas             2\n",
       "Tuna             1\n",
       "Yam              1\n",
       "Welsh            1\n",
       "Shungiku         1\n",
       "                ..\n",
       "Huckleberry      1\n",
       "Prune            1\n",
       "Passion fruit    1\n",
       "Sweet corn       1\n",
       "Date             1\n",
       "Name: Food, Length: 183, dtype: int64"
      ]
     },
     "execution_count": 8,
     "metadata": {},
     "output_type": "execute_result"
    }
   ],
   "source": [
    "count = Food_data_file_df[\"Food\"].value_counts()\n",
    "count"
   ]
  },
  {
   "cell_type": "code",
   "execution_count": 9,
   "id": "2eb05daf",
   "metadata": {},
   "outputs": [
    {
     "data": {
      "text/plain": [
       "array(['Oil seed', 'Pome fruit', 'Stone fruit', 'Composite vegetable',\n",
       "       'Liliaceous vegetable', 'Tropical fruit',\n",
       "       'Miscellaneous vegetable', 'Cereal grain', 'Pulse', 'Berry',\n",
       "       'Fish', 'Cruciferous vegetable', 'Dairy', 'Mushroom',\n",
       "       'Beverage seed', 'Oil', 'Umbelliferous vegetable', 'Offal',\n",
       "       'Shellfish', 'Cucurbitaceous vegetable', 'Solanceous vegetable',\n",
       "       'Egg', 'Sugar source', 'Grape', 'Citrus fruit / citric acid',\n",
       "       'Legumes vegetable', 'Bee product', 'Hop', 'Potato',\n",
       "       'Mineral water', 'Herb', 'Spice', 'Tea'], dtype=object)"
      ]
     },
     "execution_count": 9,
     "metadata": {},
     "output_type": "execute_result"
    }
   ],
   "source": [
    "unique = Food_data_file_df[\"Group\"].unique()\n",
    "unique"
   ]
  },
  {
   "cell_type": "code",
   "execution_count": 10,
   "id": "ee3d3b12",
   "metadata": {},
   "outputs": [
    {
     "data": {
      "text/plain": [
       "Cruciferous vegetable         15\n",
       "Pulse                         13\n",
       "Fish                          12\n",
       "Dairy                         11\n",
       "Oil                           10\n",
       "Oil seed                      10\n",
       "Tropical fruit                10\n",
       "Offal                          9\n",
       "Cereal grain                   8\n",
       "Stone fruit                    7\n",
       "Composite vegetable            7\n",
       "Liliaceous vegetable           7\n",
       "Cucurbitaceous vegetable       7\n",
       "Berry                          6\n",
       "Sugar source                   6\n",
       "Pome fruit                     5\n",
       "Umbelliferous vegetable        5\n",
       "Potato                         5\n",
       "Citrus fruit / citric acid     5\n",
       "Miscellaneous vegetable        4\n",
       "Solanceous vegetable           3\n",
       "Legumes vegetable              3\n",
       "Beverage seed                  2\n",
       "Herb                           2\n",
       "Bee product                    2\n",
       "Shellfish                      2\n",
       "Mushroom                       2\n",
       "Hop                            1\n",
       "Grape                          1\n",
       "Mineral water                  1\n",
       "Egg                            1\n",
       "Tea                            1\n",
       "Spice                          1\n",
       "Name: Group, dtype: int64"
      ]
     },
     "execution_count": 10,
     "metadata": {},
     "output_type": "execute_result"
    }
   ],
   "source": [
    "\n",
    "count = Food_data_file_df[\"Group\"].value_counts()\n",
    "count"
   ]
  },
  {
   "cell_type": "code",
   "execution_count": 11,
   "id": "9643f987",
   "metadata": {},
   "outputs": [
    {
     "data": {
      "text/plain": [
       "array(['Plant origin', 'Animal origin', 'Mineral waters'], dtype=object)"
      ]
     },
     "execution_count": 11,
     "metadata": {},
     "output_type": "execute_result"
    }
   ],
   "source": [
    "unique = Food_data_file_df[\"Class\"].unique()\n",
    "unique"
   ]
  },
  {
   "cell_type": "code",
   "execution_count": 12,
   "id": "7139a065",
   "metadata": {},
   "outputs": [
    {
     "data": {
      "text/plain": [
       "Plant origin      146\n",
       "Animal origin      37\n",
       "Mineral waters      1\n",
       "Name: Class, dtype: int64"
      ]
     },
     "execution_count": 12,
     "metadata": {},
     "output_type": "execute_result"
    }
   ],
   "source": [
    "count = Food_data_file_df[\"Class\"].value_counts()\n",
    "count"
   ]
  },
  {
   "cell_type": "code",
   "execution_count": 13,
   "id": "0af85420",
   "metadata": {
    "scrolled": true
   },
   "outputs": [
    {
     "data": {
      "text/plain": [
       "array(['Nut Allergy', 'Oral Allergy Syndrome', 'Stone Fruit Allergy',\n",
       "       'Insulin Allergy', 'Allium Allergy', 'Histamine Allergy',\n",
       "       'Banana Allergy', 'Gluten Allergy', 'Legume Allergy',\n",
       "       'Salicylate Allergy', 'Broccoli allergy', 'Cruciferous Allergy',\n",
       "       'Ragweed Allergy', 'Milk allergy / Lactose intolerance',\n",
       "       'Mushroom Allergy', nan, 'Hypersensitivity', 'Alpha-gal Syndrome',\n",
       "       'Poultry Allergy', 'Ochratoxin Allergy', 'Corn Allergy',\n",
       "       'Seed Allergy', 'Shellfish Allergy', 'Fish Allergy',\n",
       "       'Nightshade Allergy', 'Sugar Allergy / Intolerance', 'LTP Allergy',\n",
       "       'Citrus Allergy', 'Honey Allergy', 'Beer Allergy',\n",
       "       'Potato Allergy', 'Lactose Intolerance', 'Aquagenic Urticaria',\n",
       "       'Peanut Allergy', 'Mint Allergy', 'Rice Allergy', 'Pepper Allergy',\n",
       "       'Soy Allergy', 'Tannin Allergy', 'Thyroid'], dtype=object)"
      ]
     },
     "execution_count": 13,
     "metadata": {},
     "output_type": "execute_result"
    }
   ],
   "source": [
    "unique = Food_data_file_df[\"Allergy\"].unique()\n",
    "unique"
   ]
  },
  {
   "cell_type": "code",
   "execution_count": 14,
   "id": "64521af9",
   "metadata": {},
   "outputs": [
    {
     "data": {
      "text/plain": [
       "Legume Allergy                        14\n",
       "Oral Allergy Syndrome                 13\n",
       "Fish Allergy                          12\n",
       "Milk allergy / Lactose intolerance    11\n",
       "Cruciferous Allergy                    9\n",
       "Allium Allergy                         7\n",
       "Stone Fruit Allergy                    7\n",
       "Salicylate Allergy                     6\n",
       "Hypersensitivity                       6\n",
       "Alpha-gal Syndrome                     6\n",
       "Seed Allergy                           5\n",
       "Sugar Allergy / Intolerance            5\n",
       "Citrus Allergy                         5\n",
       "Histamine Allergy                      5\n",
       "Potato Allergy                         5\n",
       "Nut Allergy                            5\n",
       "Insulin Allergy                        5\n",
       "Gluten Allergy                         4\n",
       "Poultry Allergy                        4\n",
       "Corn Allergy                           3\n",
       "Nightshade Allergy                     3\n",
       "LTP Allergy                            2\n",
       "Mushroom Allergy                       2\n",
       "Honey Allergy                          2\n",
       "Mint Allergy                           2\n",
       "Shellfish Allergy                      1\n",
       "Peanut Allergy                         1\n",
       "Rice Allergy                           1\n",
       "Broccoli allergy                       1\n",
       "Ochratoxin Allergy                     1\n",
       "Aquagenic Urticaria                    1\n",
       "Thyroid                                1\n",
       "Banana Allergy                         1\n",
       "Lactose Intolerance                    1\n",
       "Pepper Allergy                         1\n",
       "Soy Allergy                            1\n",
       "Ragweed Allergy                        1\n",
       "Tannin Allergy                         1\n",
       "Beer Allergy                           1\n",
       "Name: Allergy, dtype: int64"
      ]
     },
     "execution_count": 14,
     "metadata": {},
     "output_type": "execute_result"
    }
   ],
   "source": [
    "\n",
    "count = Food_data_file_df[\"Allergy\"].value_counts()\n",
    "count"
   ]
  },
  {
   "cell_type": "code",
   "execution_count": 15,
   "id": "45d4c260",
   "metadata": {},
   "outputs": [
    {
     "ename": "AttributeError",
     "evalue": "module 'matplotlib' has no attribute 'figure'",
     "output_type": "error",
     "traceback": [
      "\u001b[0;31m---------------------------------------------------------------------------\u001b[0m",
      "\u001b[0;31mAttributeError\u001b[0m                            Traceback (most recent call last)",
      "\u001b[0;32m/var/folders/t9/jcphb3hs6kq4b38szf8vt2ch0000gn/T/ipykernel_97858/872390599.py\u001b[0m in \u001b[0;36m<module>\u001b[0;34m\u001b[0m\n\u001b[1;32m      3\u001b[0m \u001b[0;34m\u001b[0m\u001b[0m\n\u001b[1;32m      4\u001b[0m \u001b[0;34m\u001b[0m\u001b[0m\n\u001b[0;32m----> 5\u001b[0;31m \u001b[0mplt\u001b[0m\u001b[0;34m.\u001b[0m\u001b[0mfigure\u001b[0m\u001b[0;34m(\u001b[0m\u001b[0mfigsize\u001b[0m\u001b[0;34m=\u001b[0m\u001b[0;34m(\u001b[0m\u001b[0;36m10\u001b[0m\u001b[0;34m,\u001b[0m\u001b[0;36m6\u001b[0m\u001b[0;34m)\u001b[0m\u001b[0;34m)\u001b[0m\u001b[0;34m\u001b[0m\u001b[0;34m\u001b[0m\u001b[0m\n\u001b[0m\u001b[1;32m      6\u001b[0m \u001b[0mplt\u001b[0m\u001b[0;34m.\u001b[0m\u001b[0mbar\u001b[0m\u001b[0;34m(\u001b[0m\u001b[0mallergy_counts\u001b[0m\u001b[0;34m.\u001b[0m\u001b[0mindex\u001b[0m\u001b[0;34m,\u001b[0m \u001b[0mallergy_counts\u001b[0m\u001b[0;34m.\u001b[0m\u001b[0mvalues\u001b[0m\u001b[0;34m)\u001b[0m\u001b[0;34m\u001b[0m\u001b[0;34m\u001b[0m\u001b[0m\n\u001b[1;32m      7\u001b[0m \u001b[0mplt\u001b[0m\u001b[0;34m.\u001b[0m\u001b[0mxlabel\u001b[0m\u001b[0;34m(\u001b[0m\u001b[0;34m\"Allergy Type\"\u001b[0m\u001b[0;34m)\u001b[0m\u001b[0;34m\u001b[0m\u001b[0;34m\u001b[0m\u001b[0m\n",
      "\u001b[0;31mAttributeError\u001b[0m: module 'matplotlib' has no attribute 'figure'"
     ]
    }
   ],
   "source": [
    "allergy_counts = Food_data_file_df[\"Allergy\"].value_counts()\n",
    "\n",
    "\n",
    "\n",
    "plt.figure(figsize=(10,6))\n",
    "plt.bar(allergy_counts.index, allergy_counts.values)\n",
    "plt.xlabel(\"Allergy Type\")\n",
    "plt.ylabel(\"Count\")\n",
    "plt.xticks(rotation=90)\n",
    "plt.title(\"Most Common Food Allergy\")\n",
    "\n",
    "plt.show()\n"
   ]
  },
  {
   "cell_type": "code",
   "execution_count": null,
   "id": "c00a2a9a",
   "metadata": {
    "scrolled": false
   },
   "outputs": [],
   "source": []
  },
  {
   "cell_type": "code",
   "execution_count": null,
   "id": "130fe8d3",
   "metadata": {},
   "outputs": [],
   "source": []
  },
  {
   "cell_type": "code",
   "execution_count": null,
   "id": "4ffd1198",
   "metadata": {},
   "outputs": [],
   "source": []
  },
  {
   "cell_type": "code",
   "execution_count": null,
   "id": "b7515957",
   "metadata": {},
   "outputs": [],
   "source": [
    "allergy_counts = Food_data_file_df[\"Group\"].value_counts()\n",
    "\n",
    "\n",
    "\n",
    "plt.figure(figsize=(10,6))\n",
    "plt.bar(allergy_counts.index, allergy_counts.values)\n",
    "plt.xlabel(\"Group\")\n",
    "plt.ylabel(\"Count\")\n",
    "plt.xticks(rotation=90)\n",
    "plt.title(\"Food Tested\")\n",
    "plt.show()"
   ]
  },
  {
   "cell_type": "code",
   "execution_count": null,
   "id": "8daac064",
   "metadata": {
    "scrolled": false
   },
   "outputs": [],
   "source": [
    "#Group data by food type\n",
    "#Group data by allergy\n",
    "grouped = Food_data_file_df.groupby([\"Type\", \"Allergy\"]).size().reset_index(name=\"count\")\n",
    "grouped = grouped[grouped[\"count\"]>0]\n",
    "grouped = grouped.groupby([\"Type\"])[\"count\"].sum().reset_index(name=\"Total Count\")\n",
    "\n",
    "# sort the data by total count in descending order\n",
    "grouped = grouped.sort_values('Total Count', ascending=False)\n",
    "\n",
    "# create a pie chart of the top 10 food types with the highest total count of allergies\n",
    "top10 = grouped.head(10)\n",
    "plt.pie(top10['Total Count'], labels=top10['Type'], autopct='%1.1f%%')\n",
    "plt.title(\"Food Tested\")\n",
    "plt.show()\n"
   ]
  },
  {
   "cell_type": "code",
   "execution_count": null,
   "id": "38ac0cdc",
   "metadata": {},
   "outputs": [],
   "source": [
    "\n"
   ]
  },
  {
   "cell_type": "code",
   "execution_count": null,
   "id": "d651cc80",
   "metadata": {},
   "outputs": [],
   "source": [
    "\n",
    "\n",
    "grouped = Food_data_file_df.groupby([\"Class\", \"Allergy\"]).size().reset_index(name=\"count\")\n",
    "grouped = grouped[grouped[\"count\"]>0]\n",
    "grouped = grouped.groupby([\"Class\"])[\"count\"].sum().reset_index(name=\"Total Count\")\n",
    "\n",
    "# sort the data by total count in descending order\n",
    "grouped = grouped.sort_values('Total Count', ascending=False)\n",
    "\n",
    "# create a pie chart of the top 10 food types with the highest total count of allergies\n",
    "top10 = grouped.head(10)\n",
    "plt.pie(top10['Total Count'], labels=top10['Class'], autopct='%1.1f%%')\n",
    "plt.title(\"Food Tested\")\n",
    "plt.show()\n",
    "\n"
   ]
  },
  {
   "cell_type": "code",
   "execution_count": null,
   "id": "cc2dd7b7",
   "metadata": {},
   "outputs": [],
   "source": [
    "grouped = Food_data_file_df.groupby([\"Food\", \"Allergy\"]).size().reset_index(name=\"count\")\n",
    "grouped = grouped[grouped[\"count\"]>0]\n",
    "grouped = grouped.groupby([\"Food\"])[\"count\"].sum().reset_index(name=\"Total Count\")\n",
    "\n",
    "# sort the data by total count in descending order\n",
    "grouped = grouped.sort_values('Total Count', ascending=False)\n",
    "\n",
    "# create a pie chart of the top 10 food types with the highest total count of allergies\n",
    "top10 = grouped.head(10)\n",
    "plt.pie(top10['Total Count'], labels=top10['Food'], autopct='%1.1f%%')\n",
    "plt.title(\"Most consumed food\")\n",
    "plt.show()\n"
   ]
  },
  {
   "cell_type": "code",
   "execution_count": 96,
   "id": "c16c289b",
   "metadata": {},
   "outputs": [
    {
     "name": "stdout",
     "output_type": "stream",
     "text": [
      "Pick a food you'd like to evaluate: pizza\n",
      "1. Pizza bites with pumpkin, 656329\n",
      "2. BLT Pizza, 680975\n",
      "3. Thai Pizza, 663136\n",
      "4. Plantain Pizza, 716300\n",
      "5. Zucchini Pizza Boats, 665769\n"
     ]
    }
   ],
   "source": [
    "spoon_apikey = \"ebf0e3aefed5490480fa19d4a2ad3b7e\"\n",
    "common_food = input(\"Pick a food you'd like to evaluate: \")\n",
    "quantity = \"10\"\n",
    "base_url = f\"https://api.spoonacular.com/recipes/complexSearch?apiKey={spoon_apikey}&query={common_food}&usedIngredients=true&number={quantity}\"\n",
    "\n",
    "sptc_data = requests.get(base_url).json()\n",
    "recipe_ids = []\n",
    "recipe_names = []\n",
    "for x in range(len(sptc_data)+1):\n",
    "    recipe_ids.append(sptc_data['results'][x]['id'])\n",
    "    id_number = sptc_data['results'][x]['id']\n",
    "    recipe_names.append(sptc_data['results'][x]['title'])\n",
    "    name = sptc_data['results'][x]['title']\n",
    "    print(f\"{x+1}. {name}, {id_number}\")"
   ]
  },
  {
   "cell_type": "code",
   "execution_count": 97,
   "id": "204faa1a",
   "metadata": {},
   "outputs": [
    {
     "name": "stdout",
     "output_type": "stream",
     "text": [
      "Please select which recipe you'd like to evaluate (1, 2, 3, 4, 5): 1\n",
      "\n",
      "*Pizza bites with pumpkin*\n",
      "\n",
      "sugar pumpkin\n",
      "olive oil\n",
      "feta cheese\n",
      "mozzarella\n",
      "egg\n",
      "oregano\n",
      "parsley\n",
      "garlic\n",
      "\n"
     ]
    }
   ],
   "source": [
    "user_input = input(\"Please select which recipe you'd like to evaluate (1, 2, 3, 4, 5): \")\n",
    "\n",
    "for x in user_input:\n",
    "    user_pick = recipe_ids[int(x)-1]\n",
    "\n",
    "print()\n",
    "recipe_url = f\"https://api.spoonacular.com/recipes/{user_pick}/information?apiKey={spoon_apikey}&includeIngredients=true\"\n",
    "ingredient_data = requests.get(recipe_url).json()\n",
    "print(f\"*{ingredient_data['title']}*\")\n",
    "print()\n",
    "\n",
    "final_ingredients = []\n",
    "for y in range(len(ingredient_data[\"extendedIngredients\"])):\n",
    "    if ingredient_data[\"extendedIngredients\"][y][\"nameClean\"] != ingredient_data[\"extendedIngredients\"][y-1][\"nameClean\"]:\n",
    "        ingredient = ingredient_data[\"extendedIngredients\"][y][\"nameClean\"]\n",
    "        final_ingredients.append(ingredient)\n",
    "        print(ingredient)\n",
    "    else:\n",
    "        next     \n",
    "print()"
   ]
  },
  {
   "cell_type": "code",
   "execution_count": 98,
   "id": "3fb18441",
   "metadata": {},
   "outputs": [
    {
     "data": {
      "text/plain": [
       "['sugar pumpkin',\n",
       " 'olive oil',\n",
       " 'feta cheese',\n",
       " 'mozzarella',\n",
       " 'egg',\n",
       " 'oregano',\n",
       " 'parsley',\n",
       " 'garlic']"
      ]
     },
     "execution_count": 98,
     "metadata": {},
     "output_type": "execute_result"
    }
   ],
   "source": [
    "final_ingredients"
   ]
  },
  {
   "cell_type": "code",
   "execution_count": 126,
   "id": "3fd69d0b",
   "metadata": {},
   "outputs": [
    {
     "name": "stdout",
     "output_type": "stream",
     "text": [
      "Your selected item pizza contains 2 ingredients with potential allergens. They are ['Hypersensitivity', 'Allium Allergy'].\n"
     ]
    }
   ],
   "source": [
    "food_list = Food_data_file_df[\"Food\"].tolist()\n",
    "flagged_allergy = []\n",
    "flagged_food = []\n",
    "\n",
    "for food in final_ingredients:\n",
    "    food = food.capitalize()\n",
    "    if food in food_list:\n",
    "        tested_allergy = Food_data_file_df[Food_data_file_df['Food']==food]['Allergy'].values[0]\n",
    "        tested_allergy = str(tested_allergy)\n",
    "        if tested_allergy != \"nan\":\n",
    "            flagged_allergy.append(tested_allergy)\n",
    "            flagged_food.append(food)\n",
    "print(f\"Your selected item {common_food} contains {len(flagged_food)} ingredients with potential allergens. They are {flagged_allergy}.\")\n",
    "        "
   ]
  },
  {
   "cell_type": "code",
   "execution_count": null,
   "id": "8d43d556",
   "metadata": {},
   "outputs": [],
   "source": []
  }
 ],
 "metadata": {
  "kernelspec": {
   "display_name": "PythonData",
   "language": "python",
   "name": "pythondata"
  },
  "language_info": {
   "codemirror_mode": {
    "name": "ipython",
    "version": 3
   },
   "file_extension": ".py",
   "mimetype": "text/x-python",
   "name": "python",
   "nbconvert_exporter": "python",
   "pygments_lexer": "ipython3",
   "version": "3.7.7"
  }
 },
 "nbformat": 4,
 "nbformat_minor": 5
}
