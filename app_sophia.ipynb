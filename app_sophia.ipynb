{
 "cells": [
  {
   "cell_type": "code",
   "execution_count": 1,
   "metadata": {},
   "outputs": [],
   "source": [
    "import pandas as pd\n",
    "import csv\n",
    "import matplotlib as plt\n",
    "import numpy as np\n",
    "from scipy.stats import linregress"
   ]
  },
  {
   "cell_type": "code",
   "execution_count": 2,
   "metadata": {},
   "outputs": [
    {
     "data": {
      "text/html": [
       "<div>\n",
       "<style scoped>\n",
       "    .dataframe tbody tr th:only-of-type {\n",
       "        vertical-align: middle;\n",
       "    }\n",
       "\n",
       "    .dataframe tbody tr th {\n",
       "        vertical-align: top;\n",
       "    }\n",
       "\n",
       "    .dataframe thead th {\n",
       "        text-align: right;\n",
       "    }\n",
       "</style>\n",
       "<table border=\"1\" class=\"dataframe\">\n",
       "  <thead>\n",
       "    <tr style=\"text-align: right;\">\n",
       "      <th></th>\n",
       "      <th>SUBJECT_ID</th>\n",
       "      <th>BIRTH_YEAR</th>\n",
       "      <th>GENDER_FACTOR</th>\n",
       "      <th>RACE_FACTOR</th>\n",
       "      <th>ETHNICITY_FACTOR</th>\n",
       "      <th>PAYER_FACTOR</th>\n",
       "      <th>ATOPIC_MARCH_COHORT</th>\n",
       "      <th>AGE_START_YEARS</th>\n",
       "      <th>AGE_END_YEARS</th>\n",
       "      <th>SHELLFISH_ALG_START</th>\n",
       "      <th>...</th>\n",
       "      <th>CASHEW_ALG_END</th>\n",
       "      <th>ATOPIC_DERM_START</th>\n",
       "      <th>ATOPIC_DERM_END</th>\n",
       "      <th>ALLERGIC_RHINITIS_START</th>\n",
       "      <th>ALLERGIC_RHINITIS_END</th>\n",
       "      <th>ASTHMA_START</th>\n",
       "      <th>ASTHMA_END</th>\n",
       "      <th>FIRST_ASTHMARX</th>\n",
       "      <th>LAST_ASTHMARX</th>\n",
       "      <th>NUM_ASTHMARX</th>\n",
       "    </tr>\n",
       "  </thead>\n",
       "  <tbody>\n",
       "    <tr>\n",
       "      <th>0</th>\n",
       "      <td>1</td>\n",
       "      <td>2006</td>\n",
       "      <td>S1 - Female</td>\n",
       "      <td>R1 - Black</td>\n",
       "      <td>E0 - Non-Hispanic</td>\n",
       "      <td>P1 - Medicaid</td>\n",
       "      <td>False</td>\n",
       "      <td>0.093087</td>\n",
       "      <td>3.164956</td>\n",
       "      <td>NaN</td>\n",
       "      <td>...</td>\n",
       "      <td>NaN</td>\n",
       "      <td>NaN</td>\n",
       "      <td>NaN</td>\n",
       "      <td>NaN</td>\n",
       "      <td>NaN</td>\n",
       "      <td>NaN</td>\n",
       "      <td>NaN</td>\n",
       "      <td>NaN</td>\n",
       "      <td>NaN</td>\n",
       "      <td>NaN</td>\n",
       "    </tr>\n",
       "    <tr>\n",
       "      <th>1</th>\n",
       "      <td>2</td>\n",
       "      <td>1994</td>\n",
       "      <td>S1 - Female</td>\n",
       "      <td>R0 - White</td>\n",
       "      <td>E0 - Non-Hispanic</td>\n",
       "      <td>P0 - Non-Medicaid</td>\n",
       "      <td>False</td>\n",
       "      <td>12.232717</td>\n",
       "      <td>18.880219</td>\n",
       "      <td>NaN</td>\n",
       "      <td>...</td>\n",
       "      <td>NaN</td>\n",
       "      <td>NaN</td>\n",
       "      <td>NaN</td>\n",
       "      <td>NaN</td>\n",
       "      <td>NaN</td>\n",
       "      <td>NaN</td>\n",
       "      <td>NaN</td>\n",
       "      <td>12.262834</td>\n",
       "      <td>18.880219</td>\n",
       "      <td>2.0</td>\n",
       "    </tr>\n",
       "    <tr>\n",
       "      <th>2</th>\n",
       "      <td>3</td>\n",
       "      <td>2006</td>\n",
       "      <td>S0 - Male</td>\n",
       "      <td>R0 - White</td>\n",
       "      <td>E1 - Hispanic</td>\n",
       "      <td>P0 - Non-Medicaid</td>\n",
       "      <td>True</td>\n",
       "      <td>0.010951</td>\n",
       "      <td>6.726899</td>\n",
       "      <td>NaN</td>\n",
       "      <td>...</td>\n",
       "      <td>NaN</td>\n",
       "      <td>4.884326</td>\n",
       "      <td>NaN</td>\n",
       "      <td>3.917864</td>\n",
       "      <td>6.157426</td>\n",
       "      <td>5.127995</td>\n",
       "      <td>NaN</td>\n",
       "      <td>1.404517</td>\n",
       "      <td>6.157426</td>\n",
       "      <td>4.0</td>\n",
       "    </tr>\n",
       "    <tr>\n",
       "      <th>3</th>\n",
       "      <td>4</td>\n",
       "      <td>2004</td>\n",
       "      <td>S0 - Male</td>\n",
       "      <td>R4 - Unknown</td>\n",
       "      <td>E1 - Hispanic</td>\n",
       "      <td>P0 - Non-Medicaid</td>\n",
       "      <td>False</td>\n",
       "      <td>2.398357</td>\n",
       "      <td>9.111567</td>\n",
       "      <td>NaN</td>\n",
       "      <td>...</td>\n",
       "      <td>NaN</td>\n",
       "      <td>NaN</td>\n",
       "      <td>NaN</td>\n",
       "      <td>NaN</td>\n",
       "      <td>NaN</td>\n",
       "      <td>NaN</td>\n",
       "      <td>NaN</td>\n",
       "      <td>NaN</td>\n",
       "      <td>NaN</td>\n",
       "      <td>NaN</td>\n",
       "    </tr>\n",
       "    <tr>\n",
       "      <th>4</th>\n",
       "      <td>5</td>\n",
       "      <td>2006</td>\n",
       "      <td>S1 - Female</td>\n",
       "      <td>R1 - Black</td>\n",
       "      <td>E0 - Non-Hispanic</td>\n",
       "      <td>P0 - Non-Medicaid</td>\n",
       "      <td>False</td>\n",
       "      <td>0.013689</td>\n",
       "      <td>6.193018</td>\n",
       "      <td>NaN</td>\n",
       "      <td>...</td>\n",
       "      <td>NaN</td>\n",
       "      <td>NaN</td>\n",
       "      <td>NaN</td>\n",
       "      <td>NaN</td>\n",
       "      <td>NaN</td>\n",
       "      <td>NaN</td>\n",
       "      <td>NaN</td>\n",
       "      <td>NaN</td>\n",
       "      <td>NaN</td>\n",
       "      <td>NaN</td>\n",
       "    </tr>\n",
       "  </tbody>\n",
       "</table>\n",
       "<p>5 rows × 50 columns</p>\n",
       "</div>"
      ],
      "text/plain": [
       "   SUBJECT_ID  BIRTH_YEAR GENDER_FACTOR   RACE_FACTOR   ETHNICITY_FACTOR  \\\n",
       "0           1        2006   S1 - Female    R1 - Black  E0 - Non-Hispanic   \n",
       "1           2        1994   S1 - Female    R0 - White  E0 - Non-Hispanic   \n",
       "2           3        2006     S0 - Male    R0 - White      E1 - Hispanic   \n",
       "3           4        2004     S0 - Male  R4 - Unknown      E1 - Hispanic   \n",
       "4           5        2006   S1 - Female    R1 - Black  E0 - Non-Hispanic   \n",
       "\n",
       "        PAYER_FACTOR  ATOPIC_MARCH_COHORT  AGE_START_YEARS  AGE_END_YEARS  \\\n",
       "0      P1 - Medicaid                False         0.093087       3.164956   \n",
       "1  P0 - Non-Medicaid                False        12.232717      18.880219   \n",
       "2  P0 - Non-Medicaid                 True         0.010951       6.726899   \n",
       "3  P0 - Non-Medicaid                False         2.398357       9.111567   \n",
       "4  P0 - Non-Medicaid                False         0.013689       6.193018   \n",
       "\n",
       "   SHELLFISH_ALG_START  ...  CASHEW_ALG_END  ATOPIC_DERM_START  \\\n",
       "0                  NaN  ...             NaN                NaN   \n",
       "1                  NaN  ...             NaN                NaN   \n",
       "2                  NaN  ...             NaN           4.884326   \n",
       "3                  NaN  ...             NaN                NaN   \n",
       "4                  NaN  ...             NaN                NaN   \n",
       "\n",
       "   ATOPIC_DERM_END  ALLERGIC_RHINITIS_START  ALLERGIC_RHINITIS_END  \\\n",
       "0              NaN                      NaN                    NaN   \n",
       "1              NaN                      NaN                    NaN   \n",
       "2              NaN                 3.917864               6.157426   \n",
       "3              NaN                      NaN                    NaN   \n",
       "4              NaN                      NaN                    NaN   \n",
       "\n",
       "   ASTHMA_START  ASTHMA_END  FIRST_ASTHMARX  LAST_ASTHMARX  NUM_ASTHMARX  \n",
       "0           NaN         NaN             NaN            NaN           NaN  \n",
       "1           NaN         NaN       12.262834      18.880219           2.0  \n",
       "2      5.127995         NaN        1.404517       6.157426           4.0  \n",
       "3           NaN         NaN             NaN            NaN           NaN  \n",
       "4           NaN         NaN             NaN            NaN           NaN  \n",
       "\n",
       "[5 rows x 50 columns]"
      ]
     },
     "execution_count": 2,
     "metadata": {},
     "output_type": "execute_result"
    }
   ],
   "source": [
    "Food_Allergy = pd.read_csv(\"data/food-allergy-analysis-Zenodo.csv\")\n",
    "Food_Allergy.head()"
   ]
  },
  {
   "cell_type": "code",
   "execution_count": 3,
   "metadata": {},
   "outputs": [
    {
     "name": "stdout",
     "output_type": "stream",
     "text": [
      "Total Subjects 333200\n"
     ]
    }
   ],
   "source": [
    "total = len(Food_Allergy)\n",
    "print(\"Total Subjects\", total)"
   ]
  },
  {
   "cell_type": "code",
   "execution_count": 4,
   "metadata": {},
   "outputs": [
    {
     "name": "stdout",
     "output_type": "stream",
     "text": [
      "Female percentage: 49.270108043217284\n",
      "Male percentage: 50.729891956782716\n"
     ]
    }
   ],
   "source": [
    "#figure out how many are male and how many are female\n",
    "gender_counts = Food_Allergy[\"GENDER_FACTOR\"].value_counts()\n",
    "total = len(Food_Allergy)\n",
    "female_percent = (gender_counts[\"S1 - Female\"] / total) * 100\n",
    "male_percent = (gender_counts[\"S0 - Male\"] / total) * 100\n",
    "\n",
    "print(\"Female percentage:\", female_percent)\n",
    "print(\"Male percentage:\", male_percent)\n"
   ]
  },
  {
   "cell_type": "code",
   "execution_count": 5,
   "metadata": {},
   "outputs": [
    {
     "name": "stdout",
     "output_type": "stream",
     "text": [
      "Age range: 17.9849418206708 - -4.31211498973306\n"
     ]
    }
   ],
   "source": [
    "#figure out the range of ages \n",
    "age_range = Food_Allergy[\"AGE_START_YEARS\"].describe()[[\"min\", \"max\"]]\n",
    "print(\"Age range:\", age_range[1], \"-\", age_range[0])\n"
   ]
  },
  {
   "cell_type": "code",
   "execution_count": 6,
   "metadata": {},
   "outputs": [
    {
     "name": "stdout",
     "output_type": "stream",
     "text": [
      "R0 - White                        183308\n",
      "R1 - Black                         97795\n",
      "R4 - Unknown                       40940\n",
      "R2 - Asian or Pacific Islander      9152\n",
      "R3 - Other                          2005\n",
      "Name: RACE_FACTOR, dtype: int64\n"
     ]
    }
   ],
   "source": [
    "race_counts = Food_Allergy[\"RACE_FACTOR\"].value_counts()\n",
    "print(race_counts)\n"
   ]
  },
  {
   "cell_type": "code",
   "execution_count": 7,
   "metadata": {},
   "outputs": [
    {
     "name": "stdout",
     "output_type": "stream",
     "text": [
      "1.538672     6\n",
      "3.036277     6\n",
      "2.012320     6\n",
      "1.018480     5\n",
      "1.092402     5\n",
      "            ..\n",
      "15.268994    1\n",
      "14.762491    1\n",
      "18.338125    1\n",
      "7.887748     1\n",
      "6.770705     1\n",
      "Name: SHELLFISH_ALG_START, Length: 3565, dtype: int64\n"
     ]
    }
   ],
   "source": [
    "Food_Allergy_Shellfish = Food_Allergy[\"SHELLFISH_ALG_START\"].value_counts()\n",
    "print(Food_Allergy_Shellfish)"
   ]
  },
  {
   "cell_type": "code",
   "execution_count": 8,
   "metadata": {},
   "outputs": [
    {
     "name": "stdout",
     "output_type": "stream",
     "text": [
      "2.031485     2\n",
      "4.054757     2\n",
      "4.755647     2\n",
      "0.887064     1\n",
      "6.516085     1\n",
      "            ..\n",
      "2.893908     1\n",
      "3.997262     1\n",
      "13.757700    1\n",
      "1.212868     1\n",
      "6.480493     1\n",
      "Name: CASHEW_ALG_END, Length: 118, dtype: int64\n"
     ]
    }
   ],
   "source": [
    "Food_Allergy_Cashew = Food_Allergy[\"CASHEW_ALG_END\"].value_counts()\n",
    "print(Food_Allergy_Cashew)"
   ]
  },
  {
   "cell_type": "code",
   "execution_count": null,
   "metadata": {},
   "outputs": [],
   "source": [
    "\n",
    "\n",
    "\n"
   ]
  },
  {
   "cell_type": "code",
   "execution_count": 9,
   "metadata": {},
   "outputs": [
    {
     "ename": "KeyError",
     "evalue": "'Group'",
     "output_type": "error",
     "traceback": [
      "\u001b[0;31m---------------------------------------------------------------------------\u001b[0m",
      "\u001b[0;31mKeyError\u001b[0m                                  Traceback (most recent call last)",
      "File \u001b[0;32m~/anaconda3/envs/PythonData/lib/python3.11/site-packages/pandas/core/indexes/base.py:3802\u001b[0m, in \u001b[0;36mIndex.get_loc\u001b[0;34m(self, key, method, tolerance)\u001b[0m\n\u001b[1;32m   3801\u001b[0m \u001b[38;5;28;01mtry\u001b[39;00m:\n\u001b[0;32m-> 3802\u001b[0m     \u001b[38;5;28;01mreturn\u001b[39;00m \u001b[38;5;28mself\u001b[39m\u001b[38;5;241m.\u001b[39m_engine\u001b[38;5;241m.\u001b[39mget_loc(casted_key)\n\u001b[1;32m   3803\u001b[0m \u001b[38;5;28;01mexcept\u001b[39;00m \u001b[38;5;167;01mKeyError\u001b[39;00m \u001b[38;5;28;01mas\u001b[39;00m err:\n",
      "File \u001b[0;32m~/anaconda3/envs/PythonData/lib/python3.11/site-packages/pandas/_libs/index.pyx:138\u001b[0m, in \u001b[0;36mpandas._libs.index.IndexEngine.get_loc\u001b[0;34m()\u001b[0m\n",
      "File \u001b[0;32m~/anaconda3/envs/PythonData/lib/python3.11/site-packages/pandas/_libs/index.pyx:165\u001b[0m, in \u001b[0;36mpandas._libs.index.IndexEngine.get_loc\u001b[0;34m()\u001b[0m\n",
      "File \u001b[0;32mpandas/_libs/hashtable_class_helper.pxi:5745\u001b[0m, in \u001b[0;36mpandas._libs.hashtable.PyObjectHashTable.get_item\u001b[0;34m()\u001b[0m\n",
      "File \u001b[0;32mpandas/_libs/hashtable_class_helper.pxi:5753\u001b[0m, in \u001b[0;36mpandas._libs.hashtable.PyObjectHashTable.get_item\u001b[0;34m()\u001b[0m\n",
      "\u001b[0;31mKeyError\u001b[0m: 'Group'",
      "\nThe above exception was the direct cause of the following exception:\n",
      "\u001b[0;31mKeyError\u001b[0m                                  Traceback (most recent call last)",
      "Cell \u001b[0;32mIn[9], line 1\u001b[0m\n\u001b[0;32m----> 1\u001b[0m count \u001b[38;5;241m=\u001b[39m Food_Allergy[\u001b[38;5;124m\"\u001b[39m\u001b[38;5;124mGroup\u001b[39m\u001b[38;5;124m\"\u001b[39m]\u001b[38;5;241m.\u001b[39mvalue_counts()\n\u001b[1;32m      2\u001b[0m count\n",
      "File \u001b[0;32m~/anaconda3/envs/PythonData/lib/python3.11/site-packages/pandas/core/frame.py:3807\u001b[0m, in \u001b[0;36mDataFrame.__getitem__\u001b[0;34m(self, key)\u001b[0m\n\u001b[1;32m   3805\u001b[0m \u001b[38;5;28;01mif\u001b[39;00m \u001b[38;5;28mself\u001b[39m\u001b[38;5;241m.\u001b[39mcolumns\u001b[38;5;241m.\u001b[39mnlevels \u001b[38;5;241m>\u001b[39m \u001b[38;5;241m1\u001b[39m:\n\u001b[1;32m   3806\u001b[0m     \u001b[38;5;28;01mreturn\u001b[39;00m \u001b[38;5;28mself\u001b[39m\u001b[38;5;241m.\u001b[39m_getitem_multilevel(key)\n\u001b[0;32m-> 3807\u001b[0m indexer \u001b[38;5;241m=\u001b[39m \u001b[38;5;28mself\u001b[39m\u001b[38;5;241m.\u001b[39mcolumns\u001b[38;5;241m.\u001b[39mget_loc(key)\n\u001b[1;32m   3808\u001b[0m \u001b[38;5;28;01mif\u001b[39;00m is_integer(indexer):\n\u001b[1;32m   3809\u001b[0m     indexer \u001b[38;5;241m=\u001b[39m [indexer]\n",
      "File \u001b[0;32m~/anaconda3/envs/PythonData/lib/python3.11/site-packages/pandas/core/indexes/base.py:3804\u001b[0m, in \u001b[0;36mIndex.get_loc\u001b[0;34m(self, key, method, tolerance)\u001b[0m\n\u001b[1;32m   3802\u001b[0m     \u001b[38;5;28;01mreturn\u001b[39;00m \u001b[38;5;28mself\u001b[39m\u001b[38;5;241m.\u001b[39m_engine\u001b[38;5;241m.\u001b[39mget_loc(casted_key)\n\u001b[1;32m   3803\u001b[0m \u001b[38;5;28;01mexcept\u001b[39;00m \u001b[38;5;167;01mKeyError\u001b[39;00m \u001b[38;5;28;01mas\u001b[39;00m err:\n\u001b[0;32m-> 3804\u001b[0m     \u001b[38;5;28;01mraise\u001b[39;00m \u001b[38;5;167;01mKeyError\u001b[39;00m(key) \u001b[38;5;28;01mfrom\u001b[39;00m \u001b[38;5;21;01merr\u001b[39;00m\n\u001b[1;32m   3805\u001b[0m \u001b[38;5;28;01mexcept\u001b[39;00m \u001b[38;5;167;01mTypeError\u001b[39;00m:\n\u001b[1;32m   3806\u001b[0m     \u001b[38;5;66;03m# If we have a listlike key, _check_indexing_error will raise\u001b[39;00m\n\u001b[1;32m   3807\u001b[0m     \u001b[38;5;66;03m#  InvalidIndexError. Otherwise we fall through and re-raise\u001b[39;00m\n\u001b[1;32m   3808\u001b[0m     \u001b[38;5;66;03m#  the TypeError.\u001b[39;00m\n\u001b[1;32m   3809\u001b[0m     \u001b[38;5;28mself\u001b[39m\u001b[38;5;241m.\u001b[39m_check_indexing_error(key)\n",
      "\u001b[0;31mKeyError\u001b[0m: 'Group'"
     ]
    }
   ],
   "source": [
    "count = Food_Allergy[\"Group\"].value_counts()\n",
    "count"
   ]
  },
  {
   "cell_type": "code",
   "execution_count": null,
   "metadata": {},
   "outputs": [],
   "source": [
    "\n"
   ]
  },
  {
   "cell_type": "code",
   "execution_count": null,
   "metadata": {},
   "outputs": [],
   "source": []
  }
 ],
 "metadata": {
  "kernelspec": {
   "display_name": "PythonData",
   "language": "python",
   "name": "myenv"
  },
  "language_info": {
   "codemirror_mode": {
    "name": "ipython",
    "version": 3
   },
   "file_extension": ".py",
   "mimetype": "text/x-python",
   "name": "python",
   "nbconvert_exporter": "python",
   "pygments_lexer": "ipython3",
   "version": "3.11.0"
  }
 },
 "nbformat": 4,
 "nbformat_minor": 2
}
